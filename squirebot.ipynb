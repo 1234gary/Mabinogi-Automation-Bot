{
 "cells": [
  {
   "cell_type": "code",
   "execution_count": null,
   "metadata": {},
   "outputs": [],
   "source": [
    "%matplotlib inline\n",
    "from matplotlib import pyplot as plt\n",
    "import numpy as np \n",
    "from PIL import ImageGrab\n",
    "import cv2\n",
    "import pyautogui\n",
    "import time\n",
    "import datetime\n",
    "\n",
    "import pytesseract\n",
    "pytesseract.pytesseract.tesseract_cmd = 'C:/Program Files/Tesseract-OCR/tesseract'\n",
    "\n",
    "import random\n",
    "\n",
    "ir_factor = 1\n",
    "\n",
    "def grab_screen():\n",
    "    screen = np.array(ImageGrab.grab())\n",
    "    screen = cv2.cvtColor(screen, cv2.COLOR_BGR2GRAY)\n",
    "    screen = cv2.resize(screen,None,fx=1/ir_factor,fy=1/ir_factor)\n",
    "    return screen\n",
    "\n",
    "def load_image(img_name):\n",
    "    img = cv2.imread(img_name)\n",
    "    img = cv2.cvtColor(img, cv2.COLOR_BGR2GRAY)\n",
    "    img = cv2.resize(img,None,fx=1/ir_factor,fy=1/ir_factor)\n",
    "    return img\n",
    "\n",
    "def click(img, x, y):\n",
    "    img[x-10:x+10, y-10:y+10] = 0\n",
    "    return img\n",
    "\n",
    "def logout(img):\n",
    "    click(img, 980, 670)\n",
    "    for i in range(7):\n",
    "        click(img, 410+28*i, 1600)\n",
    "    click(img, 600, 1900)\n",
    "    click(img, 660, 1880)\n",
    "    click(img, 590, 910)\n",
    "    click(img, 610, 960)\n",
    "    click(img, 690, 1020)\n",
    "    \n",
    "    click(img, 610, 1000)\n",
    "    click(img, 680, 1150)\n",
    "    return img"
   ]
  },
  {
   "cell_type": "code",
   "execution_count": null,
   "metadata": {},
   "outputs": [],
   "source": [
    "screen = load_image(\"./train4.png\")\n",
    "screen = logout(screen)\n",
    "fig=plt.figure(figsize=(1920/120, 1080/120))\n",
    "plt.imshow(screen)\n",
    "plt.show()\n",
    "\n",
    "\n",
    "# text_cutout = screen[775:820, 450:775]\n",
    "# text_cutout = cv2.resize(text_cutout,None,fx=4,fy=4)\n",
    "# ret, text_cutout = cv2.threshold(text_cutout,127,255,cv2.THRESH_BINARY)\n",
    "# text = pytesseract.image_to_string(text_cutout, config='--psm 12 --oem 3')\n",
    "# print(text)\n",
    "# fig=plt.figure(figsize=(1920/120, 1080/120))\n",
    "# plt.imshow(text_cutout)\n",
    "# plt.show()\n",
    "\n",
    "# text_cutout = screen[950:1000, 450:900]\n",
    "# text_cutout = cv2.resize(text_cutout,None,fx=4,fy=4)\n",
    "# ret, text_cutout = cv2.threshold(text_cutout,127,255,cv2.THRESH_BINARY)\n",
    "# text = pytesseract.image_to_string(text_cutout, config='--psm 12 --oem 3')\n",
    "# print(text)\n",
    "# fig=plt.figure(figsize=(1920/120, 1080/120))\n",
    "# plt.imshow(text_cutout)\n",
    "# plt.show()"
   ]
  },
  {
   "cell_type": "code",
   "execution_count": null,
   "metadata": {},
   "outputs": [],
   "source": []
  },
  {
   "cell_type": "markdown",
   "metadata": {},
   "source": [
    "# Initialize Squires"
   ]
  },
  {
   "cell_type": "code",
   "execution_count": 2,
   "metadata": {},
   "outputs": [
    {
     "name": "stdout",
     "output_type": "stream",
     "text": [
      "Initialized\n"
     ]
    }
   ],
   "source": [
    "from importlib import reload\n",
    "import squirebot\n",
    "reload(squirebot)\n",
    "from squirebot import SquireBot\n",
    "import time\n",
    "\n",
    "sb = SquireBot()"
   ]
  },
  {
   "cell_type": "markdown",
   "metadata": {},
   "source": [
    "# Complete and Reassign Missions"
   ]
  },
  {
   "cell_type": "code",
   "execution_count": null,
   "metadata": {},
   "outputs": [],
   "source": [
    "# Main Account - Money\n",
    "missions_by_id = {0: [2, 5, 8], 1: [5, 2, 8], 2: [2, 5, 8], 3: [2, 5, 8],\n",
    "                      4: [5, 2, 8], 5: [5, 2, 8], 6: [5, 2, 8], 7: [5, 2, 8],\n",
    "                      8: [2, 5, 8], 9: [5, 2, 8], 10: [2, 5, 8], 11: [2, 5, 8]}\n",
    "action = sb._reassign_missions\n",
    "sb.execute_action_on_squires(8, 12, action, missions_by_id=missions_by_id)"
   ]
  },
  {
   "cell_type": "code",
   "execution_count": null,
   "metadata": {},
   "outputs": [],
   "source": [
    "# Main Account - Points\n",
    "missions_by_id = {0: [1, 4, 7], 1: [1, 4, 7], 2: [1, 4, 7], 3: [1, 4, 7],\n",
    "                      4: [1, 4, 7], 5: [1, 4, 7], 6: [1, 4, 7], 7: [1, 4, 7],\n",
    "                      8: [1, 4, 7], 9: [1, 4, 7], 10: [1, 4, 7], 11: [1, 4, 7]}\n",
    "action = sb._reassign_missions\n",
    "sb.execute_action_on_squires(6, 11, action, missions_by_id=missions_by_id)"
   ]
  },
  {
   "cell_type": "code",
   "execution_count": 3,
   "metadata": {},
   "outputs": [
    {
     "name": "stdout",
     "output_type": "stream",
     "text": [
      "Finished\n"
     ]
    }
   ],
   "source": [
    "# Side Account - Money\n",
    "missions_by_id = {0: [2, 4, 5], 1: [2, 4, 5], 2: [2, 4, 5], 3: [2, 4, 5],\n",
    "                      4: [2, 4, 5], 5: [2, 4, 5], 6: [2, 4, 5], 7: [2, 4, 5],\n",
    "                      8: [2, 4, 5], 9: [2, 4, 5], 10: [2, 4, 5]}\n",
    "action = sb._reassign_missions\n",
    "sb.execute_action_on_squires(0, 11, action, missions_by_id=missions_by_id)"
   ]
  },
  {
   "cell_type": "code",
   "execution_count": null,
   "metadata": {},
   "outputs": [],
   "source": [
    "# Side Account - Points\n",
    "missions_by_id = {0: [-1, 1, 3], 1: [-1, 1, 3], 2: [-1, 1, 3], 3: [-1, 1, 3],\n",
    "                      4: [-1, 1, 3], 5: [-1, 1, 3], 6: [-1, 1, 3], 7: [-1, 1, 3],\n",
    "                      8: [-1, 1, 3], 9: [-1, 1, 3], 10: [-1, 1, 3]}\n",
    "action = sb._reassign_missions\n",
    "sb.execute_action_on_squires(0, 11, action, missions_by_id=missions_by_id)"
   ]
  },
  {
   "cell_type": "code",
   "execution_count": null,
   "metadata": {},
   "outputs": [],
   "source": [
    "# Side Account - Points (Dai Training)\n",
    "missions_by_id = {0: [1, 3, -1], 1: [1, 3, -1], 2: [1, 3, -1], 3: [1, 3, -1],\n",
    "                      4: [1, 3, -1], 5: [1, 3, -1], 6: [1, 3, -1], 7: [1, 3, -1],\n",
    "                      8: [1, 3, -1], 9: [1, 3, -1], 10: [1, 3, -1]}\n",
    "action = sb._reassign_missions\n",
    "sb.execute_action_on_squires(0, 11, action, missions_by_id=missions_by_id)"
   ]
  },
  {
   "cell_type": "markdown",
   "metadata": {},
   "source": [
    "# Advanced Squire Training"
   ]
  },
  {
   "cell_type": "code",
   "execution_count": null,
   "metadata": {},
   "outputs": [],
   "source": [
    "missions_by_id = {0: [0, 3, -1], 1: [0, -1, 6], 2: [0, -1, 6], 3: [0, -1, 6],\n",
    "                      4: [0, -1, 6], 5: [0, -1, 6], 6: [0, -1, 6], 7: [0, -1, 6],\n",
    "                      8: [0, -1, 6], 9: [0, -1, 6], 10: [0, -1, 6], 11: [0, -1, 6]}\n",
    "action = sb._train_advanced_squire\n",
    "sb.execute_action_on_squires(0, 10, action, missions_by_id=missions_by_id)"
   ]
  },
  {
   "cell_type": "code",
   "execution_count": 22,
   "metadata": {},
   "outputs": [
    {
     "name": "stdout",
     "output_type": "stream",
     "text": [
      "Starting Adv Training\n",
      "./confirms/login_confirm.png 0.061751820147037506 0.06 False\n",
      "./confirms/login_confirm.png 0.0424831323325634 0.06 True\n",
      "./confirms/new_day_confirm.png 0.6282896399497986 0.12 False\n",
      "./confirms/avalon_confirm.png 0.029839834198355675 0.07 True\n",
      "./confirms/conv_confirm.png 0.21028649806976318 0.1 False\n",
      "./confirms/conv_confirm.png 0.210349440574646 0.1 False\n",
      "./confirms/conv_confirm.png 0.21458356082439423 0.1 False\n",
      "./confirms/conv_confirm.png 0.22202181816101074 0.1 False\n",
      "./confirms/conv_confirm.png 0.22288359701633453 0.1 False\n",
      "./confirms/conv_confirm.png 0.232280433177948 0.1 False\n",
      "o &\n",
      "\n",
      "\"\n",
      "\n",
      "ey\n",
      "\n",
      "yds\n",
      "./confirms/talk_confirm.png 1.0 0.05 False\n",
      "./confirms/conv_confirm.png 0.2287251502275467 0.1 False\n",
      "./confirms/conv_confirm.png 0.23143140971660614 0.1 False\n",
      "./confirms/conv_confirm.png 0.2252066284418106 0.1 False\n",
      "./confirms/conv_confirm.png 0.22803902626037598 0.1 False\n",
      "./confirms/conv_confirm.png 0.22885265946388245 0.1 False\n",
      "./confirms/conv_confirm.png 0.23041468858718872 0.1 False\n",
      "x\n",
      "\n",
      "phy\n",
      "\n",
      "Wa <-\n",
      "\n",
      "r\n",
      "./confirms/talk_confirm.png 1.0 0.05 False\n",
      "./confirms/conv_confirm.png 0.2329927682876587 0.1 False\n",
      "./confirms/conv_confirm.png 0.23291653394699097 0.1 False\n",
      "./confirms/conv_confirm.png 0.23440197110176086 0.1 False\n",
      "./confirms/conv_confirm.png 0.23428313434123993 0.1 False\n",
      "./confirms/conv_confirm.png 0.23479238152503967 0.1 False\n",
      "./confirms/conv_confirm.png 0.2346242517232895 0.1 False\n",
      "./confirms/conv_confirm.png 0.23456253111362457 0.1 False\n",
      "ay oH a\n",
      "\n",
      "ge\n",
      "\n",
      "r\n",
      "./confirms/talk_confirm.png 1.0 0.05 False\n"
     ]
    },
    {
     "ename": "FailSafeException",
     "evalue": "PyAutoGUI fail-safe triggered from mouse moving to upper-left corner. To disable this fail-safe, set pyautogui.FAILSAFE to False.",
     "output_type": "error",
     "traceback": [
      "\u001b[1;31m---------------------------------------------------------------------------\u001b[0m",
      "\u001b[1;31mFailSafeException\u001b[0m                         Traceback (most recent call last)",
      "\u001b[1;32m<ipython-input-22-c31a1408d889>\u001b[0m in \u001b[0;36m<module>\u001b[1;34m\u001b[0m\n\u001b[0;32m      5\u001b[0m \u001b[0mprint\u001b[0m\u001b[1;33m(\u001b[0m\u001b[1;34m\"Starting Adv Training\"\u001b[0m\u001b[1;33m)\u001b[0m\u001b[1;33m\u001b[0m\u001b[0m\n\u001b[0;32m      6\u001b[0m \u001b[0maction\u001b[0m \u001b[1;33m=\u001b[0m \u001b[0msb\u001b[0m\u001b[1;33m.\u001b[0m\u001b[0m_train_advanced_squire\u001b[0m\u001b[1;33m\u001b[0m\u001b[0m\n\u001b[1;32m----> 7\u001b[1;33m \u001b[0msb\u001b[0m\u001b[1;33m.\u001b[0m\u001b[0mexecute_action_on_squires\u001b[0m\u001b[1;33m(\u001b[0m\u001b[1;36m9\u001b[0m\u001b[1;33m,\u001b[0m \u001b[1;36m11\u001b[0m\u001b[1;33m,\u001b[0m \u001b[0maction\u001b[0m\u001b[1;33m,\u001b[0m \u001b[0mmissions_by_id\u001b[0m\u001b[1;33m=\u001b[0m\u001b[0mmissions_by_id\u001b[0m\u001b[1;33m)\u001b[0m\u001b[1;33m\u001b[0m\u001b[0m\n\u001b[0m\u001b[0;32m      8\u001b[0m \u001b[1;31m#start_time = float('-Inf')\u001b[0m\u001b[1;33m\u001b[0m\u001b[1;33m\u001b[0m\u001b[0m\n\u001b[0;32m      9\u001b[0m \u001b[1;32mwhile\u001b[0m \u001b[1;32mTrue\u001b[0m\u001b[1;33m:\u001b[0m\u001b[1;33m\u001b[0m\u001b[0m\n",
      "\u001b[1;32mD:\\Programming\\SquireBot\\squirebot.py\u001b[0m in \u001b[0;36mexecute_action_on_squires\u001b[1;34m(self, start, num_chars, action, **kwargs)\u001b[0m\n\u001b[0;32m     21\u001b[0m             \u001b[0mself\u001b[0m\u001b[1;33m.\u001b[0m\u001b[0m_select_character\u001b[0m\u001b[1;33m(\u001b[0m\u001b[0mi\u001b[0m\u001b[1;33m)\u001b[0m\u001b[1;33m\u001b[0m\u001b[0m\n\u001b[0;32m     22\u001b[0m             \u001b[0mself\u001b[0m\u001b[1;33m.\u001b[0m\u001b[0m_login\u001b[0m\u001b[1;33m(\u001b[0m\u001b[1;33m)\u001b[0m\u001b[1;33m\u001b[0m\u001b[0m\n\u001b[1;32m---> 23\u001b[1;33m             \u001b[0maction\u001b[0m\u001b[1;33m(\u001b[0m\u001b[1;33m**\u001b[0m\u001b[0mkwargs\u001b[0m\u001b[1;33m)\u001b[0m\u001b[1;33m\u001b[0m\u001b[0m\n\u001b[0m\u001b[0;32m     24\u001b[0m             \u001b[0mself\u001b[0m\u001b[1;33m.\u001b[0m\u001b[0m_logout\u001b[0m\u001b[1;33m(\u001b[0m\u001b[1;33m)\u001b[0m\u001b[1;33m\u001b[0m\u001b[0m\n\u001b[0;32m     25\u001b[0m         \u001b[0mself\u001b[0m\u001b[1;33m.\u001b[0m\u001b[0malt_tab\u001b[0m\u001b[1;33m(\u001b[0m\u001b[1;33m)\u001b[0m\u001b[1;33m\u001b[0m\u001b[0m\n",
      "\u001b[1;32mD:\\Programming\\SquireBot\\squirebot.py\u001b[0m in \u001b[0;36m_train_advanced_squire\u001b[1;34m(self, missions_by_id, squire_id, **kwargs)\u001b[0m\n\u001b[0;32m     34\u001b[0m         \u001b[0mself\u001b[0m\u001b[1;33m.\u001b[0m\u001b[0m_end_training\u001b[0m\u001b[1;33m(\u001b[0m\u001b[1;33m)\u001b[0m\u001b[1;33m\u001b[0m\u001b[0m\n\u001b[0;32m     35\u001b[0m         \u001b[0mself\u001b[0m\u001b[1;33m.\u001b[0m\u001b[0m_converse_with_squire\u001b[0m\u001b[1;33m(\u001b[0m\u001b[1;33m)\u001b[0m\u001b[1;33m\u001b[0m\u001b[0m\n\u001b[1;32m---> 36\u001b[1;33m         \u001b[0mself\u001b[0m\u001b[1;33m.\u001b[0m\u001b[0m_start_training\u001b[0m\u001b[1;33m(\u001b[0m\u001b[1;36m3\u001b[0m\u001b[1;33m)\u001b[0m\u001b[1;33m\u001b[0m\u001b[0m\n\u001b[0m\u001b[0;32m     37\u001b[0m         \u001b[0mtime\u001b[0m\u001b[1;33m.\u001b[0m\u001b[0msleep\u001b[0m\u001b[1;33m(\u001b[0m\u001b[1;36m2\u001b[0m\u001b[1;33m)\u001b[0m\u001b[1;33m\u001b[0m\u001b[0m\n\u001b[0;32m     38\u001b[0m \u001b[1;33m\u001b[0m\u001b[0m\n",
      "\u001b[1;32mD:\\Programming\\SquireBot\\squirebot.py\u001b[0m in \u001b[0;36m_start_training\u001b[1;34m(self, train_id)\u001b[0m\n\u001b[0;32m     94\u001b[0m \u001b[1;33m\u001b[0m\u001b[0m\n\u001b[0;32m     95\u001b[0m     \u001b[1;32mdef\u001b[0m \u001b[0m_start_training\u001b[0m\u001b[1;33m(\u001b[0m\u001b[0mself\u001b[0m\u001b[1;33m,\u001b[0m \u001b[0mtrain_id\u001b[0m\u001b[1;33m)\u001b[0m\u001b[1;33m:\u001b[0m\u001b[1;33m\u001b[0m\u001b[0m\n\u001b[1;32m---> 96\u001b[1;33m         \u001b[0mself\u001b[0m\u001b[1;33m.\u001b[0m\u001b[0m_talk_to_squire\u001b[0m\u001b[1;33m(\u001b[0m\u001b[1;33m)\u001b[0m\u001b[1;33m\u001b[0m\u001b[0m\n\u001b[0m\u001b[0;32m     97\u001b[0m         \u001b[0mself\u001b[0m\u001b[1;33m.\u001b[0m\u001b[0m_mabi_click\u001b[0m\u001b[1;33m(\u001b[0m\u001b[1;36m980\u001b[0m\u001b[1;33m,\u001b[0m \u001b[1;36m670\u001b[0m\u001b[1;33m,\u001b[0m \u001b[0mdelay\u001b[0m\u001b[1;33m=\u001b[0m\u001b[1;36m0.5\u001b[0m\u001b[1;33m)\u001b[0m\u001b[1;33m\u001b[0m\u001b[0m\n\u001b[0;32m     98\u001b[0m         \u001b[1;32mfor\u001b[0m \u001b[0mi\u001b[0m \u001b[1;32min\u001b[0m \u001b[0mrange\u001b[0m\u001b[1;33m(\u001b[0m\u001b[0mtrain_id\u001b[0m\u001b[1;33m-\u001b[0m\u001b[1;36m6\u001b[0m\u001b[1;33m)\u001b[0m\u001b[1;33m:\u001b[0m\u001b[1;33m\u001b[0m\u001b[0m\n",
      "\u001b[1;32mD:\\Programming\\SquireBot\\squirebot.py\u001b[0m in \u001b[0;36m_talk_to_squire\u001b[1;34m(self)\u001b[0m\n\u001b[0;32m     63\u001b[0m         \u001b[0mscreen_text\u001b[0m \u001b[1;33m=\u001b[0m \u001b[0mself\u001b[0m\u001b[1;33m.\u001b[0m\u001b[0m_get_screen_tesseract_text\u001b[0m\u001b[1;33m(\u001b[0m\u001b[1;36m950\u001b[0m\u001b[1;33m,\u001b[0m \u001b[1;36m450\u001b[0m\u001b[1;33m,\u001b[0m \u001b[1;36m1000\u001b[0m\u001b[1;33m,\u001b[0m \u001b[1;36m900\u001b[0m\u001b[1;33m)\u001b[0m\u001b[1;33m\u001b[0m\u001b[0m\n\u001b[0;32m     64\u001b[0m         \u001b[1;32mwhile\u001b[0m \u001b[1;34m'Conversation'\u001b[0m \u001b[1;32mnot\u001b[0m \u001b[1;32min\u001b[0m \u001b[0mscreen_text\u001b[0m \u001b[1;32mand\u001b[0m \u001b[1;34m'Counsel'\u001b[0m \u001b[1;32mnot\u001b[0m \u001b[1;32min\u001b[0m \u001b[0mscreen_text\u001b[0m\u001b[1;33m:\u001b[0m\u001b[1;33m\u001b[0m\u001b[0m\n\u001b[1;32m---> 65\u001b[1;33m             \u001b[0mself\u001b[0m\u001b[1;33m.\u001b[0m\u001b[0m_mabi_click\u001b[0m\u001b[1;33m(\u001b[0m\u001b[1;36m980\u001b[0m\u001b[1;33m,\u001b[0m \u001b[1;36m530\u001b[0m\u001b[1;33m,\u001b[0m \u001b[0mdelay\u001b[0m\u001b[1;33m=\u001b[0m\u001b[1;36m0.5\u001b[0m\u001b[1;33m)\u001b[0m\u001b[1;33m\u001b[0m\u001b[0m\n\u001b[0m\u001b[0;32m     66\u001b[0m             \u001b[0mscreen_text\u001b[0m \u001b[1;33m=\u001b[0m \u001b[0mself\u001b[0m\u001b[1;33m.\u001b[0m\u001b[0m_get_screen_tesseract_text\u001b[0m\u001b[1;33m(\u001b[0m\u001b[1;36m950\u001b[0m\u001b[1;33m,\u001b[0m \u001b[1;36m450\u001b[0m\u001b[1;33m,\u001b[0m \u001b[1;36m1000\u001b[0m\u001b[1;33m,\u001b[0m \u001b[1;36m900\u001b[0m\u001b[1;33m)\u001b[0m\u001b[1;33m\u001b[0m\u001b[0m\n\u001b[0;32m     67\u001b[0m \u001b[1;33m\u001b[0m\u001b[0m\n",
      "\u001b[1;32mD:\\Programming\\SquireBot\\squirebot.py\u001b[0m in \u001b[0;36m_mabi_click\u001b[1;34m(h, w, delay, clickDelay)\u001b[0m\n\u001b[0;32m    242\u001b[0m         \u001b[0mpyautogui\u001b[0m\u001b[1;33m.\u001b[0m\u001b[0mmouseDown\u001b[0m\u001b[1;33m(\u001b[0m\u001b[1;33m)\u001b[0m\u001b[1;33m;\u001b[0m\u001b[1;33m\u001b[0m\u001b[0m\n\u001b[0;32m    243\u001b[0m         \u001b[0mtime\u001b[0m\u001b[1;33m.\u001b[0m\u001b[0msleep\u001b[0m\u001b[1;33m(\u001b[0m\u001b[0mclickDelay\u001b[0m\u001b[1;33m)\u001b[0m\u001b[1;33m;\u001b[0m\u001b[1;33m\u001b[0m\u001b[0m\n\u001b[1;32m--> 244\u001b[1;33m         \u001b[0mpyautogui\u001b[0m\u001b[1;33m.\u001b[0m\u001b[0mmouseUp\u001b[0m\u001b[1;33m(\u001b[0m\u001b[1;33m)\u001b[0m\u001b[1;33m\u001b[0m\u001b[0m\n\u001b[0m\u001b[0;32m    245\u001b[0m \u001b[1;33m\u001b[0m\u001b[0m\n\u001b[0;32m    246\u001b[0m         \u001b[1;32mif\u001b[0m \u001b[0mdelay\u001b[0m\u001b[1;33m:\u001b[0m\u001b[1;33m\u001b[0m\u001b[0m\n",
      "\u001b[1;32m~\\Anaconda3\\envs\\wbot\\lib\\site-packages\\pyautogui\\__init__.py\u001b[0m in \u001b[0;36mmouseUp\u001b[1;34m(x, y, button, duration, tween, pause, _pause)\u001b[0m\n\u001b[0;32m    352\u001b[0m         \u001b[1;32mraise\u001b[0m \u001b[0mValueError\u001b[0m\u001b[1;33m(\u001b[0m\u001b[1;34m\"button argument must be one of ('left', 'middle', 'right', 1, 2, 3), not %s\"\u001b[0m \u001b[1;33m%\u001b[0m \u001b[0mbutton\u001b[0m\u001b[1;33m)\u001b[0m\u001b[1;33m\u001b[0m\u001b[0m\n\u001b[0;32m    353\u001b[0m \u001b[1;33m\u001b[0m\u001b[0m\n\u001b[1;32m--> 354\u001b[1;33m     \u001b[0m_failSafeCheck\u001b[0m\u001b[1;33m(\u001b[0m\u001b[1;33m)\u001b[0m\u001b[1;33m\u001b[0m\u001b[0m\n\u001b[0m\u001b[0;32m    355\u001b[0m     \u001b[0mx\u001b[0m\u001b[1;33m,\u001b[0m \u001b[0my\u001b[0m \u001b[1;33m=\u001b[0m \u001b[0m_unpackXY\u001b[0m\u001b[1;33m(\u001b[0m\u001b[0mx\u001b[0m\u001b[1;33m,\u001b[0m \u001b[0my\u001b[0m\u001b[1;33m)\u001b[0m\u001b[1;33m\u001b[0m\u001b[0m\n\u001b[0;32m    356\u001b[0m \u001b[1;33m\u001b[0m\u001b[0m\n",
      "\u001b[1;32m~\\Anaconda3\\envs\\wbot\\lib\\site-packages\\pyautogui\\__init__.py\u001b[0m in \u001b[0;36m_failSafeCheck\u001b[1;34m()\u001b[0m\n\u001b[0;32m   1112\u001b[0m \u001b[1;33m\u001b[0m\u001b[0m\n\u001b[0;32m   1113\u001b[0m     \u001b[1;32mif\u001b[0m \u001b[0mFAILSAFE\u001b[0m \u001b[1;32mand\u001b[0m \u001b[0mposition\u001b[0m\u001b[1;33m(\u001b[0m\u001b[1;33m)\u001b[0m \u001b[1;33m==\u001b[0m \u001b[0mFAILSAFE_POINT\u001b[0m\u001b[1;33m:\u001b[0m\u001b[1;33m\u001b[0m\u001b[0m\n\u001b[1;32m-> 1114\u001b[1;33m         \u001b[1;32mraise\u001b[0m \u001b[0mFailSafeException\u001b[0m\u001b[1;33m(\u001b[0m\u001b[1;34m'PyAutoGUI fail-safe triggered from mouse moving to upper-left corner. To disable this fail-safe, set pyautogui.FAILSAFE to False.'\u001b[0m\u001b[1;33m)\u001b[0m\u001b[1;33m\u001b[0m\u001b[0m\n\u001b[0m\u001b[0;32m   1115\u001b[0m \u001b[1;33m\u001b[0m\u001b[0m\n\u001b[0;32m   1116\u001b[0m \u001b[1;33m\u001b[0m\u001b[0m\n",
      "\u001b[1;31mFailSafeException\u001b[0m: PyAutoGUI fail-safe triggered from mouse moving to upper-left corner. To disable this fail-safe, set pyautogui.FAILSAFE to False."
     ]
    }
   ],
   "source": [
    "missions_by_id = {0: [3, 0, -1], 1: [0, 6, -1], 2: [0, 6, -1], 3: [0, 6, -1],\n",
    "                      4: [0, 6, -1], 5: [0, 6, -1], 6: [0, 6, -1], 7: [0, 6, -1],\n",
    "                      8: [0, 6, -1], 9: [0, 6, -1], 10: [0, 6, -1], 11: [0, 6, -1]}\n",
    "start_time = time.time()\n",
    "print(\"Starting Adv Training\")\n",
    "action = sb._train_advanced_squire\n",
    "sb.execute_action_on_squires(9, 11, action, missions_by_id=missions_by_id)\n",
    "#start_time = float('-Inf')\n",
    "while True:\n",
    "    print(\"Finished 1 Cycle\")\n",
    "    while time.time() - start_time < 2200:\n",
    "        time.sleep(30)\n",
    "    action = sb._train_advanced_squire\n",
    "    sb.execute_action_on_squires(0, 11, action, missions_by_id=missions_by_id)\n",
    "    start_time = time.time()"
   ]
  },
  {
   "cell_type": "markdown",
   "metadata": {},
   "source": [
    "# Macros"
   ]
  },
  {
   "cell_type": "code",
   "execution_count": null,
   "metadata": {},
   "outputs": [],
   "source": [
    "# Buy boxes\n",
    "int_seals = 362\n",
    "sb.box_buying(int_seals)"
   ]
  },
  {
   "cell_type": "code",
   "execution_count": null,
   "metadata": {},
   "outputs": [],
   "source": [
    "num_leathers = 85\n",
    "sb.make_leather_straps(num_leathers)"
   ]
  },
  {
   "cell_type": "code",
   "execution_count": null,
   "metadata": {},
   "outputs": [],
   "source": [
    "num_syn = 40\n",
    "sb.synthesize(num_syn)"
   ]
  },
  {
   "cell_type": "markdown",
   "metadata": {},
   "source": [
    "# Test Functions"
   ]
  },
  {
   "cell_type": "code",
   "execution_count": null,
   "metadata": {},
   "outputs": [],
   "source": [
    "sb.alt_tab()\n",
    "# sb._end_training()\n",
    "sb._start_training(0)"
   ]
  },
  {
   "cell_type": "code",
   "execution_count": null,
   "metadata": {},
   "outputs": [],
   "source": [
    "import time\n",
    "missions_by_id = {0: [3, 0, -1], 1: [0, -1, 6], 2: [0, -1, 6], 3: [0, -1, 6],\n",
    "                      4: [0, -1, 6], 5: [0, -1, 6], 6: [0, -1, 6], 7: [0, -1, 6],\n",
    "                      8: [0, -1, 6], 9: [0, -1, 6], 10: [0, -1, 6], 11: [0, -1, 6]}\n",
    "\n",
    "sb.alt_tab()\n",
    "# sb._reassign_missions(missions_by_id, 0)\n",
    "# sb._reset_char_screen()\n",
    "# sb._converse_with_squire()\n",
    "# sb._start_training(3)\n",
    "time.sleep(2200)\n",
    "while True:\n",
    "    sb._reassign_missions(missions_by_id, 0)\n",
    "    sb._reset_char_screen()\n",
    "    sb._end_training()\n",
    "    sb._converse_with_squire()\n",
    "    sb._start_training(3)\n",
    "    time.sleep(2200)"
   ]
  },
  {
   "cell_type": "code",
   "execution_count": null,
   "metadata": {},
   "outputs": [],
   "source": [
    "sb.alt_tab()\n",
    "for i in range(3):\n",
    "    sb._click_through_text()\n",
    "    sb._answer_conv_question()\n",
    "    sb._end_conv()"
   ]
  },
  {
   "cell_type": "code",
   "execution_count": null,
   "metadata": {},
   "outputs": [],
   "source": [
    "sb.alt_tab()\n",
    "missions_by_id = {0: [0, 3, -1], 1: [0, -1, 6], 2: [0, -1, 6], 3: [0, -1, 6],\n",
    "                      4: [0, -1, 6], 5: [0, -1, 6], 6: [0, -1, 6], 7: [0, -1, 6],\n",
    "                      8: [0, -1, 6], 9: [0, -1, 6], 10: [0, -1, 6], 11: [0, -1, 6]}\n",
    "sb._reassign_missions(missions_by_id, 0, number=2)"
   ]
  },
  {
   "cell_type": "code",
   "execution_count": null,
   "metadata": {},
   "outputs": [],
   "source": []
  }
 ],
 "metadata": {
  "kernelspec": {
   "display_name": "Python [conda env:wbot]",
   "language": "python",
   "name": "conda-env-wbot-py"
  },
  "language_info": {
   "codemirror_mode": {
    "name": "ipython",
    "version": 3
   },
   "file_extension": ".py",
   "mimetype": "text/x-python",
   "name": "python",
   "nbconvert_exporter": "python",
   "pygments_lexer": "ipython3",
   "version": "3.6.6"
  }
 },
 "nbformat": 4,
 "nbformat_minor": 2
}
