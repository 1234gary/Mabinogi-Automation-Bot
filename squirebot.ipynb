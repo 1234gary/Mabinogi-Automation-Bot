{
 "cells": [
  {
   "cell_type": "code",
   "execution_count": null,
   "metadata": {},
   "outputs": [],
   "source": [
    "%matplotlib inline\n",
    "from matplotlib import pyplot as plt\n",
    "import numpy as np \n",
    "from PIL import ImageGrab\n",
    "import cv2\n",
    "import pyautogui\n",
    "import time\n",
    "import datetime\n",
    "\n",
    "import pytesseract\n",
    "pytesseract.pytesseract.tesseract_cmd = 'C:/Program Files/Tesseract-OCR/tesseract'\n",
    "\n",
    "import random\n",
    "\n",
    "ir_factor = 1\n",
    "\n",
    "def grab_screen():\n",
    "    screen = np.array(ImageGrab.grab())\n",
    "    screen = cv2.cvtColor(screen, cv2.COLOR_BGR2GRAY)\n",
    "    screen = cv2.resize(screen,None,fx=1/ir_factor,fy=1/ir_factor)\n",
    "    return screen\n",
    "\n",
    "def load_image(img_name):\n",
    "    img = cv2.imread(img_name)\n",
    "    img = cv2.cvtColor(img, cv2.COLOR_BGR2GRAY)\n",
    "    img = cv2.resize(img,None,fx=1/ir_factor,fy=1/ir_factor)\n",
    "    return img\n",
    "\n",
    "def click(img, x, y):\n",
    "    img[x-10:x+10, y-10:y+10] = 0\n",
    "    return img\n",
    "\n",
    "def logout(img):\n",
    "    click(img, 980, 670)\n",
    "    for i in range(7):\n",
    "        click(img, 410+28*i, 1600)\n",
    "    click(img, 600, 1900)\n",
    "    click(img, 660, 1880)\n",
    "    click(img, 590, 910)\n",
    "    click(img, 610, 960)\n",
    "    click(img, 690, 1020)\n",
    "    \n",
    "    click(img, 610, 1000)\n",
    "    click(img, 680, 1150)\n",
    "    \n",
    "    click(img, 640, 290)\n",
    "    return img"
   ]
  },
  {
   "cell_type": "code",
   "execution_count": null,
   "metadata": {},
   "outputs": [],
   "source": [
    "screen = load_image(\"./text1.png\")\n",
    "print(screen.shape)\n",
    "screen = logout(screen)\n",
    "fig=plt.figure(figsize=(1920/120, 1080/120))\n",
    "plt.imshow(screen)\n",
    "plt.show()\n",
    "\n",
    "\n",
    "# text_cutout = screen[775:820, 450:775]\n",
    "# text_cutout = cv2.resize(text_cutout,None,fx=4,fy=4)\n",
    "# ret, text_cutout = cv2.threshold(text_cutout,127,255,cv2.THRESH_BINARY)\n",
    "# text = pytesseract.image_to_string(text_cutout, config='--psm 12 --oem 3')\n",
    "# print(text)\n",
    "# fig=plt.figure(figsize=(1920/120, 1080/120))\n",
    "# plt.imshow(text_cutout)\n",
    "# plt.show()\n",
    "\n",
    "text_cutout = screen[1010:1060, 450:900]\n",
    "text_cutout = cv2.resize(text_cutout,None,fx=4,fy=4)\n",
    "ret, text_cutout = cv2.threshold(text_cutout,127,255,cv2.THRESH_BINARY)\n",
    "text = pytesseract.image_to_string(text_cutout, config='--psm 12 --oem 3')\n",
    "print(text)\n",
    "fig=plt.figure(figsize=(1920/120, 1080/120))\n",
    "plt.imshow(text_cutout)\n",
    "plt.show()"
   ]
  },
  {
   "cell_type": "code",
   "execution_count": null,
   "metadata": {},
   "outputs": [],
   "source": []
  },
  {
   "cell_type": "markdown",
   "metadata": {},
   "source": [
    "# Initialize Squires"
   ]
  },
  {
   "cell_type": "code",
   "execution_count": 4,
   "metadata": {},
   "outputs": [
    {
     "name": "stdout",
     "output_type": "stream",
     "text": [
      "Initialized\n"
     ]
    }
   ],
   "source": [
    "from importlib import reload\n",
    "import squirebot\n",
    "reload(squirebot)\n",
    "from squirebot import SquireBot\n",
    "import time\n",
    "\n",
    "sb = SquireBot(dimx=1140, dimy=1920, apply_factor=True)"
   ]
  },
  {
   "cell_type": "markdown",
   "metadata": {},
   "source": [
    "# Complete and Reassign Missions"
   ]
  },
  {
   "cell_type": "code",
   "execution_count": null,
   "metadata": {},
   "outputs": [],
   "source": [
    "# Main Account - Money\n",
    "missions_by_id = {0: [2, 5, 8], 1: [5, 2, 8], 2: [2, 5, 8], 3: [2, 5, 8],\n",
    "                      4: [5, 2, 8], 5: [5, 2, 8], 6: [5, 2, 8], 7: [5, 2, 8],\n",
    "                      8: [2, 5, 8], 9: [5, 2, 8], 10: [2, 5, 8], 11: [2, 5, 8]}\n",
    "action = sb._reassign_missions\n",
    "sb.execute_action_on_squires(8, 12, action, missions_by_id=missions_by_id)"
   ]
  },
  {
   "cell_type": "code",
   "execution_count": null,
   "metadata": {},
   "outputs": [],
   "source": [
    "# Main Account - Points\n",
    "missions_by_id = {0: [1, 4, 7], 1: [1, 4, 7], 2: [1, 4, 7], 3: [1, 4, 7],\n",
    "                      4: [1, 4, 7], 5: [1, 4, 7], 6: [1, 4, 7], 7: [1, 4, 7],\n",
    "                      8: [1, 4, 7], 9: [1, 4, 7], 10: [1, 4, 7], 11: [1, 4, 7]}\n",
    "action = sb._reassign_missions\n",
    "sb.execute_action_on_squires(6, 11, action, missions_by_id=missions_by_id)"
   ]
  },
  {
   "cell_type": "code",
   "execution_count": null,
   "metadata": {},
   "outputs": [],
   "source": [
    "# Side Account - Money\n",
    "missions_by_id = {0: [2, 4, 5], 1: [2, 4, 5], 2: [2, 4, 5], 3: [2, 4, 5],\n",
    "                      4: [2, 4, 5], 5: [2, 4, 5], 6: [2, 4, 5], 7: [2, 4, 5],\n",
    "                      8: [2, 4, 5], 9: [2, 4, 5], 10: [2, 4, 5]}\n",
    "action = sb._reassign_missions\n",
    "sb.execute_action_on_squires(6, 8, action, missions_by_id=missions_by_id)"
   ]
  },
  {
   "cell_type": "code",
   "execution_count": null,
   "metadata": {},
   "outputs": [],
   "source": [
    "# Side Account - Points\n",
    "missions_by_id = {0: [-1, 1, 3], 1: [-1, 1, 3], 2: [-1, 1, 3], 3: [-1, 1, 3],\n",
    "                      4: [-1, 1, 3], 5: [-1, 1, 3], 6: [-1, 1, 3], 7: [-1, 1, 3],\n",
    "                      8: [-1, 1, 3], 9: [-1, 1, 3], 10: [-1, 1, 3]}\n",
    "action = sb._reassign_missions\n",
    "sb.execute_action_on_squires(0, 11, action, missions_by_id=missions_by_id)"
   ]
  },
  {
   "cell_type": "code",
   "execution_count": null,
   "metadata": {},
   "outputs": [],
   "source": [
    "# Side Account - Points (Dai Training)\n",
    "missions_by_id = {0: [1, 3, -1], 1: [1, 3, -1], 2: [1, 3, -1], 3: [1, 3, -1],\n",
    "                      4: [1, 3, -1], 5: [1, 3, -1], 6: [1, 3, -1], 7: [1, 3, -1],\n",
    "                      8: [1, 3, -1], 9: [1, 3, -1], 10: [1, 3, -1]}\n",
    "action = sb._reassign_missions\n",
    "sb.execute_action_on_squires(0, 11, action, missions_by_id=missions_by_id)"
   ]
  },
  {
   "cell_type": "markdown",
   "metadata": {},
   "source": [
    "# Advanced Squire Training"
   ]
  },
  {
   "cell_type": "code",
   "execution_count": null,
   "metadata": {},
   "outputs": [],
   "source": [
    "missions_by_id = {0: [0, 3, -1], 1: [0, -1, 6], 2: [0, -1, 6], 3: [0, -1, 6],\n",
    "                      4: [0, -1, 6], 5: [0, -1, 6], 6: [0, -1, 6], 7: [0, -1, 6],\n",
    "                      8: [0, -1, 6], 9: [0, -1, 6], 10: [0, -1, 6], 11: [0, -1, 6]}\n",
    "action = sb._train_advanced_squire\n",
    "sb.execute_action_on_squires(0, 11, action, missions_by_id=missions_by_id, mission_number=3)"
   ]
  },
  {
   "cell_type": "code",
   "execution_count": null,
   "metadata": {},
   "outputs": [],
   "source": [
    "missions_by_id = {0: [3, 0, -1], 1: [0, 6, -1], 2: [0, 6, -1], 3: [0, 6, -1],\n",
    "                      4: [0, 6, -1], 5: [0, 6, -1], 6: [0, 6, -1], 7: [0, 6, -1],\n",
    "                      8: [0, 6, -1], 9: [0, 6, -1], 10: [0, 6, -1], 11: [0, 6, -1]}\n",
    "start_time = time.time()\n",
    "print(\"Starting Adv Training\")\n",
    "action = sb._train_advanced_squire\n",
    "sb.execute_action_on_squires(5, 11, action, missions_by_id=missions_by_id)\n",
    "#start_time = float('-Inf')\n",
    "while True:\n",
    "    print(\"Finished 1 Cycle\")\n",
    "    while time.time() - start_time < 2200:\n",
    "        time.sleep(30)\n",
    "    action = sb._train_advanced_squire\n",
    "    sb.execute_action_on_squires(0, 11, action, missions_by_id=missions_by_id)\n",
    "    start_time = time.time()"
   ]
  },
  {
   "cell_type": "code",
   "execution_count": null,
   "metadata": {},
   "outputs": [],
   "source": [
    "# Alt\n",
    "missions_by_id = {0: [0, -1, 3], 1: [0, -1, 3], 2: [0, -1, 3], 3: [0, 3, -1],\n",
    "                      4: [0, -1, 3], 5: [0, -1, 3], 6: [0, -1, 3], 7: [0, -1, 3],\n",
    "                      8: [0, -1, 3], 9: [0, -1, 3], 10: [0, -1, 3], 11: [0, -1, 3]}\n",
    "action = sb._train_advanced_squire\n",
    "sb.execute_action_on_squires(10, 11, action, missions_by_id=missions_by_id, mission_number=3)"
   ]
  },
  {
   "cell_type": "code",
   "execution_count": null,
   "metadata": {},
   "outputs": [
    {
     "name": "stdout",
     "output_type": "stream",
     "text": [
      "Starting Adv Training\n",
      "Finished 1 Cycle\n"
     ]
    }
   ],
   "source": [
    "missions_by_id = {0: [0, 3, -1], 1: [0, 3, -1], 2: [0, 3, -1], 3: [0, 3, -1],\n",
    "                      4: [0, 3, -1], 5: [0, 3, -1], 6: [0, 3, -1], 7: [0, 3, -1],\n",
    "                      8: [0, 3, -1], 9: [0, 3, -1], 10: [0, 3, -1], 11: [0, 3, -1]}\n",
    "training_regime = {0: [0, 3, -1], 1: [0, 3, -1], 2: [0, 3, -1], 3: [0, 3, -1],\n",
    "                      4: [0, 3, -1], 5: [0, 3, -1], 6: [0, 3, -1], 7: [0, 3, -1],\n",
    "                      8: [0, 3, -1], 9: [0, 3, -1], 10: [0, 3, -1], 11: [0, 3, -1]}\n",
    "start_time = time.time()\n",
    "print(\"Starting Adv Training\")\n",
    "# action = sb._train_advanced_squire\n",
    "# sb.execute_action_on_squires(10, 11, action, missions_by_id=missions_by_id)\n",
    "#start_time = float('-Inf')\n",
    "while True:\n",
    "    print(\"Finished 1 Cycle\")\n",
    "    while time.time() - start_time < 2200:\n",
    "        time.sleep(30)\n",
    "    action = sb._train_advanced_squire\n",
    "    sb.execute_action_on_squires(0, 11, action, missions_by_id=missions_by_id)\n",
    "    start_time = time.time()"
   ]
  },
  {
   "cell_type": "markdown",
   "metadata": {},
   "source": [
    "###### Macros"
   ]
  },
  {
   "cell_type": "code",
   "execution_count": null,
   "metadata": {},
   "outputs": [],
   "source": [
    "# Buy boxes\n",
    "int_seals = 362\n",
    "sb.box_buying(int_seals)"
   ]
  },
  {
   "cell_type": "code",
   "execution_count": null,
   "metadata": {},
   "outputs": [],
   "source": [
    "num_leathers = 85\n",
    "sb.make_leather_straps(num_leathers)"
   ]
  },
  {
   "cell_type": "code",
   "execution_count": null,
   "metadata": {},
   "outputs": [],
   "source": [
    "num_syn = 40\n",
    "sb.synthesize(num_syn)"
   ]
  },
  {
   "cell_type": "markdown",
   "metadata": {},
   "source": [
    "# Test Functions"
   ]
  },
  {
   "cell_type": "code",
   "execution_count": null,
   "metadata": {},
   "outputs": [],
   "source": [
    "sb.alt_tab()\n",
    "# sb._end_training()\n",
    "sb._start_training(0)"
   ]
  },
  {
   "cell_type": "code",
   "execution_count": null,
   "metadata": {},
   "outputs": [],
   "source": [
    "import time\n",
    "missions_by_id = {0: [3, 0, -1], 1: [0, -1, 6], 2: [0, -1, 6], 3: [0, -1, 6],\n",
    "                      4: [0, -1, 6], 5: [0, -1, 6], 6: [0, -1, 6], 7: [0, -1, 6],\n",
    "                      8: [0, -1, 6], 9: [0, -1, 6], 10: [0, -1, 6], 11: [0, -1, 6]}\n",
    "\n",
    "sb.alt_tab()\n",
    "# sb._reassign_missions(missions_by_id, 0)\n",
    "# sb._reset_char_screen()\n",
    "# sb._converse_with_squire()\n",
    "# sb._start_training(3)\n",
    "time.sleep(2200)\n",
    "while True:\n",
    "    sb._reassign_missions(missions_by_id, 0)\n",
    "    sb._reset_char_screen()\n",
    "    sb._end_training()\n",
    "    sb._converse_with_squire()\n",
    "    sb._start_training(3)\n",
    "    time.sleep(2200)"
   ]
  },
  {
   "cell_type": "code",
   "execution_count": null,
   "metadata": {},
   "outputs": [],
   "source": [
    "sb.alt_tab()\n",
    "for i in range(3):\n",
    "    sb._click_through_text()\n",
    "    sb._answer_conv_question()\n",
    "    sb._end_conv()"
   ]
  },
  {
   "cell_type": "code",
   "execution_count": null,
   "metadata": {},
   "outputs": [],
   "source": [
    "sb.alt_tab()\n",
    "sb._end_conv()"
   ]
  },
  {
   "cell_type": "code",
   "execution_count": null,
   "metadata": {},
   "outputs": [],
   "source": [
    "import pyautogui\n",
    "from directkeys import PressKey, ReleaseKey, W, A, S, D, SHIFT, CTRL, ESC, C\n",
    "import time\n",
    "sb.alt_tab()\n",
    "\n",
    "#sb._end_training()\n",
    "sb._converse_with_squire()\n",
    "sb._start_training(1)"
   ]
  },
  {
   "cell_type": "code",
   "execution_count": 5,
   "metadata": {},
   "outputs": [
    {
     "name": "stdout",
     "output_type": "stream",
     "text": [
      "Finished\n"
     ]
    }
   ],
   "source": [
    "def do_nothing(squire_id):\n",
    "    return\n",
    "\n",
    "action = do_nothing\n",
    "sb.execute_action_on_squires(10, 11, action)"
   ]
  },
  {
   "cell_type": "markdown",
   "metadata": {},
   "source": [
    "#### "
   ]
  }
 ],
 "metadata": {
  "kernelspec": {
   "display_name": "Python [conda env:squire]",
   "language": "python",
   "name": "conda-env-squire-py"
  },
  "language_info": {
   "codemirror_mode": {
    "name": "ipython",
    "version": 3
   },
   "file_extension": ".py",
   "mimetype": "text/x-python",
   "name": "python",
   "nbconvert_exporter": "python",
   "pygments_lexer": "ipython3",
   "version": "3.7.4"
  }
 },
 "nbformat": 4,
 "nbformat_minor": 4
}
