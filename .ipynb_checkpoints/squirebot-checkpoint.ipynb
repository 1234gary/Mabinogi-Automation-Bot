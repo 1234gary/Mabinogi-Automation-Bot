{
 "cells": [
  {
   "cell_type": "markdown",
   "metadata": {},
   "source": [
    "# Initialize Squires"
   ]
  },
  {
   "cell_type": "code",
   "execution_count": null,
   "metadata": {},
   "outputs": [],
   "source": [
    "# Always initialize first. Then run any command. None of them conflict with each other. Execute_action happens once, while Execute_Repeated_Action repeats every 36min. \n",
    "# Program auto-alttabs for you. Just let it run naturally.\n",
    "# Dimensions auto adjusted. Watashi wa tensai dakara... Just don't multi screen cause I dunno what will happen lmao.\n",
    "from importlib import reload\n",
    "import squirebot \n",
    "reload(squirebot)\n",
    "from squirebot import SquireBot\n",
    "import time\n",
    "\n",
    "sb = SquireBot()"
   ]
  },
  {
   "cell_type": "markdown",
   "metadata": {},
   "source": [
    "# Complete and Reassign Missions"
   ]
  },
  {
   "cell_type": "code",
   "execution_count": null,
   "metadata": {},
   "outputs": [],
   "source": [
    "# Main Account - Money\n",
    "missions_by_id = {0: {'kanna':2, 'logan':1, 'dai':0}, 1: {'kanna':0, 'logan':2, 'dai':1}, \n",
    "                  2: {'kanna':1, 'logan':2, 'dai':0}, 3: {'kanna':1, 'logan':2, 'dai':0},\n",
    "                  4: {'kanna':0, 'logan':2, 'dai':1}, 5: {'kanna':0, 'logan':2, 'dai':1}, \n",
    "                  6: {'kanna':0, 'logan':2, 'dai':1}, 7: {'kanna':0, 'logan':2, 'dai':1},\n",
    "                  8: {'kanna':1, 'logan':2, 'dai':0}, 9: {'kanna':0, 'logan':2, 'dai':1}, \n",
    "                  10: {'kanna':1, 'logan':2, 'dai':0}, 11: {'kanna':1, 'logan':2, 'dai':0}}\n",
    "action = sb._reassign_missions\n",
    "sb.execute_action_on_squires(3, 12, action, missions_by_id=missions_by_id)"
   ]
  },
  {
   "cell_type": "markdown",
   "metadata": {},
   "source": [
    "# Advanced Squire Training"
   ]
  },
  {
   "cell_type": "code",
   "execution_count": null,
   "metadata": {},
   "outputs": [],
   "source": [
    "# 36min repeating 1 training 2 missions\n",
    "# Replace 0 with id of starting squire - in case you want to start from the middle due to fucking something up\n",
    "# Replace 11 with the total number of squires\n",
    "# Mission IDs use the order of your bookmarked missions, -1 for skip mission assignment\n",
    "# Training IDS is the order of training\n",
    "# Set converse to True if you want to talk\n",
    "# Ask me when your done Kanna. Pathing has to change to support Logan or Dai.\n",
    "# All numbers start from 0 like any good programmer would\n",
    "\n",
    "missions_by_id = {0: {'kanna':-1, 'logan':4, 'dai':1}, 1: {'kanna':-1, 'logan':4, 'dai':1}, \n",
    "                  2: {'kanna':-1, 'logan':4, 'dai':1}, 3: {'kanna':-1, 'logan':4, 'dai':1},\n",
    "                  4: {'kanna':-1, 'logan':4, 'dai':1}, 5: {'kanna':-1, 'logan':4, 'dai':1}, \n",
    "                  6: {'kanna':-1, 'logan':4, 'dai':1}, 7: {'kanna':-1, 'logan':4, 'dai':1},\n",
    "                  8: {'kanna':-1, 'logan':4, 'dai':1}, 9: {'kanna':-1, 'logan':4, 'dai':1}, \n",
    "                  10: {'kanna':-1, 'logan':4, 'dai':1}}\n",
    "training_ids = {0: [18], 1: [18], 2: [18], 3: [18],\n",
    "                4: [18], 5: [18], 6: [18], 7: [18],\n",
    "                8: [18], 9: [18], 10: [18]}\n",
    "\n",
    "action = sb._train_advanced_squire\n",
    "sb.execute_repeated_action(0, 11, action, missions_by_id=missions_by_id, training_by_id=training_ids, converse=True)"
   ]
  },
  {
   "cell_type": "code",
   "execution_count": null,
   "metadata": {},
   "outputs": [],
   "source": [
    "# 36min repeating 3 missions\n",
    "missions_by_id = {0: {'logan':4, 'dai':1, 'kanna':0}, 1: {'logan':4, 'dai':1, 'kanna':0}, \n",
    "                  2: {'logan':4, 'dai':1, 'kanna':0}, 3: {'logan':4, 'dai':1, 'kanna':0},\n",
    "                  4: {'logan':4, 'dai':1, 'kanna':0}, 5: {'logan':4, 'dai':1, 'kanna':0}, \n",
    "                  6: {'logan':4, 'dai':1, 'kanna':0}, 7: {'logan':4, 'dai':1, 'kanna':0},\n",
    "                  8: {'logan':4, 'dai':1, 'kanna':0}, 9: {'logan':4, 'dai':1, 'kanna':0}, \n",
    "                  10: {'logan':4, 'dai':1, 'kanna':0}}\n",
    "\n",
    "action = sb._reassign_missions\n",
    "sb.execute_repeated_action(0, 11, action, missions_by_id=missions_by_id)"
   ]
  },
  {
   "cell_type": "markdown",
   "metadata": {},
   "source": [
    "# Counsel"
   ]
  },
  {
   "cell_type": "code",
   "execution_count": null,
   "metadata": {},
   "outputs": [],
   "source": [
    "# Counsels everyone\n",
    "action = sb._counsel_squires\n",
    "sb.execute_action_on_squires(0, 11, action)"
   ]
  },
  {
   "cell_type": "markdown",
   "metadata": {},
   "source": [
    "# Macros - Ignore, requires certain screen setup"
   ]
  },
  {
   "cell_type": "code",
   "execution_count": null,
   "metadata": {},
   "outputs": [],
   "source": [
    "# Buy boxes\n",
    "int_seals = 653\n",
    "sb.box_buying(int_seals)"
   ]
  },
  {
   "cell_type": "code",
   "execution_count": null,
   "metadata": {},
   "outputs": [],
   "source": [
    "# Synthesis\n",
    "num_syn = 40\n",
    "sb.synthesize(num_syn)"
   ]
  },
  {
   "cell_type": "markdown",
   "metadata": {},
   "source": [
    "# Test Functions - Development Playground"
   ]
  },
  {
   "cell_type": "code",
   "execution_count": null,
   "metadata": {},
   "outputs": [],
   "source": [
    "%matplotlib inline\n",
    "from matplotlib import pyplot as plt\n",
    "import numpy as np \n",
    "from PIL import ImageGrab\n",
    "import cv2\n",
    "import pyautogui\n",
    "import time\n",
    "import datetime\n",
    "\n",
    "import pytesseract\n",
    "pytesseract.pytesseract.tesseract_cmd = 'C:/Program Files/Tesseract-OCR/tesseract'\n",
    "\n",
    "import random\n",
    "\n",
    "ir_factor = 1\n",
    "\n",
    "def grab_screen():\n",
    "    screen = np.array(ImageGrab.grab())\n",
    "    screen = cv2.cvtColor(screen, cv2.COLOR_BGR2GRAY)\n",
    "    screen = cv2.resize(screen,None,fx=1/ir_factor,fy=1/ir_factor)\n",
    "    return screen\n",
    "\n",
    "def load_image(img_name):\n",
    "    img = cv2.imread(img_name)\n",
    "    img = cv2.cvtColor(img, cv2.COLOR_BGR2GRAY)\n",
    "    img = cv2.resize(img,None,fx=1/ir_factor,fy=1/ir_factor)\n",
    "    return img\n",
    "\n",
    "def click(img, x, y):\n",
    "    img[x-10:x+10, y-10:y+10] = 0\n",
    "    return img\n",
    "\n",
    "def logout(img):\n",
    "    click(img, 1050, 750)\n",
    "    return img\n",
    "\n",
    "def image_confirm(img2):\n",
    "    screen = img2[0:600, 0:900]\n",
    "    confirm = \"./confirms/dai_confirm.png\"\n",
    "    img = load_image(confirm)\n",
    "    res = cv2.matchTemplate(screen, img, cv2.TM_SQDIFF_NORMED)\n",
    "    min_val, _, min_loc, _ = cv2.minMaxLoc(res)\n",
    "    click(img2, min_loc[1]+20, min_loc[0]+20)\n",
    "    return img2"
   ]
  },
  {
   "cell_type": "code",
   "execution_count": null,
   "metadata": {},
   "outputs": [],
   "source": [
    "screen = load_image(\"./menu7.png\")\n",
    "print(screen.shape)\n",
    "screen = logout(screen)\n",
    "fig=plt.figure(figsize=(1920/120, 1080/120))\n",
    "plt.imshow(screen)\n",
    "plt.show()\n",
    "\n",
    "\n",
    "\n",
    "# text_cutout = screen[775:820, 450:775]\n",
    "# text_cutout = cv2.resize(text_cutout,None,fx=4,fy=4)\n",
    "# ret, text_cutout = cv2.threshold(text_cutout,127,255,cv2.THRESH_BINARY)\n",
    "# text = pytesseract.image_to_string(text_cutout, config='--psm 12 --oem 3')\n",
    "# print(text)\n",
    "# fig=plt.figure(figsize=(1920/120, 1080/120))\n",
    "# plt.imshow(text_cutout)\n",
    "# plt.show()\n",
    "\n",
    "# text_cutout = screen[1010:1060, 450:900]\n",
    "# text_cutout = cv2.resize(text_cutout,None,fx=4,fy=4)\n",
    "# ret, text_cutout = cv2.threshold(text_cutout,127,255,cv2.THRESH_BINARY)\n",
    "# text = pytesseract.image_to_string(text_cutout, config='--psm 12 --oem 3')\n",
    "# print(text)\n",
    "# fig=plt.figure(figsize=(1920/120, 1080/120))\n",
    "# plt.imshow(text_cutout)\n",
    "# plt.show()"
   ]
  },
  {
   "cell_type": "code",
   "execution_count": null,
   "metadata": {},
   "outputs": [],
   "source": [
    "sb.alt_tab()\n",
    "for i in range(50):\n",
    "    pyautogui.mouseDown(); \n",
    "    time.sleep(0.1); \n",
    "    pyautogui.mouseUp() "
   ]
  },
  {
   "cell_type": "code",
   "execution_count": null,
   "metadata": {},
   "outputs": [],
   "source": [
    "import time\n",
    "missions_by_id = {0: [3, 0, -1], 1: [0, -1, 6], 2: [0, -1, 6], 3: [0, -1, 6],\n",
    "                      4: [0, -1, 6], 5: [0, -1, 6], 6: [0, -1, 6], 7: [0, -1, 6],\n",
    "                      8: [0, -1, 6], 9: [0, -1, 6], 10: [0, -1, 6], 11: [0, -1, 6]}\n",
    "\n",
    "sb.alt_tab()\n",
    "# sb._reassign_missions(missions_by_id, 0)\n",
    "# sb._reset_char_screen()\n",
    "# sb._converse_with_squire()\n",
    "# sb._start_training(3)\n",
    "time.sleep(2200)\n",
    "while True:\n",
    "    sb._reassign_missions(missions_by_id, 0)\n",
    "    sb._reset_char_screen()\n",
    "    sb._end_training()\n",
    "    sb._converse_with_squire()\n",
    "    sb._start_training(3)\n",
    "    time.sleep(2200)"
   ]
  },
  {
   "cell_type": "code",
   "execution_count": null,
   "metadata": {},
   "outputs": [],
   "source": [
    "sb.alt_tab()\n",
    "for i in range(3):\n",
    "    sb._click_through_text()\n",
    "    sb._answer_conv_question()\n",
    "    sb._end_conv()"
   ]
  },
  {
   "cell_type": "code",
   "execution_count": null,
   "metadata": {},
   "outputs": [],
   "source": [
    "sb.alt_tab()\n",
    "sb._end_conv()"
   ]
  },
  {
   "cell_type": "code",
   "execution_count": null,
   "metadata": {},
   "outputs": [],
   "source": [
    "import pyautogui\n",
    "from directkeys import PressKey, ReleaseKey, W, A, S, D, SHIFT, CTRL, ESC, C\n",
    "import time\n",
    "sb.alt_tab()\n",
    "\n",
    "#sb._end_training()\n",
    "sb._converse_with_squire()\n",
    "sb._start_training(1)"
   ]
  },
  {
   "cell_type": "code",
   "execution_count": null,
   "metadata": {},
   "outputs": [],
   "source": [
    "def do_nothing(squire_id):\n",
    "    return\n",
    "\n",
    "action = do_nothing\n",
    "sb.execute_action_on_squires(10, 11, action)"
   ]
  },
  {
   "cell_type": "markdown",
   "metadata": {},
   "source": [
    "#### "
   ]
  },
  {
   "cell_type": "code",
   "execution_count": null,
   "metadata": {},
   "outputs": [],
   "source": [
    "num_leathers = 85\n",
    "sb.make_leather_straps(num_leathers)"
   ]
  },
  {
   "cell_type": "code",
   "execution_count": null,
   "metadata": {},
   "outputs": [],
   "source": [
    "sb.alt_tab()\n",
    "sb._mabi_click(748, 962, delay=0.1, apply_cfactor=sb.apply_factor)"
   ]
  },
  {
   "cell_type": "code",
   "execution_count": null,
   "metadata": {},
   "outputs": [],
   "source": [
    "sb.alt_tab()\n",
    "# sb._mabi_zoom(12, -500)\n",
    "# sb._move_to_squire((\"center\", \"kanna\"), 0)\n",
    "# sb._end_training()\n",
    "sb._counsel()\n",
    "sb._move_to_squire((\"kanna\", \"logan\"), 0)\n",
    "sb._end_training()\n",
    "sb._counsel()\n",
    "sb._move_to_squire((\"logan\", \"dai\"), 0)\n",
    "sb._end_training()\n",
    "sb._counsel()"
   ]
  },
  {
   "cell_type": "markdown",
   "metadata": {},
   "source": [
    "###### "
   ]
  }
 ],
 "metadata": {
  "kernelspec": {
   "display_name": "Python [conda env:squire]",
   "language": "python",
   "name": "conda-env-squire-py"
  },
  "language_info": {
   "codemirror_mode": {
    "name": "ipython",
    "version": 3
   },
   "file_extension": ".py",
   "mimetype": "text/x-python",
   "name": "python",
   "nbconvert_exporter": "python",
   "pygments_lexer": "ipython3",
   "version": "3.7.4"
  }
 },
 "nbformat": 4,
 "nbformat_minor": 4
}
